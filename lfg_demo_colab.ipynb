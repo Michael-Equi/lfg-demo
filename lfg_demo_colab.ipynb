{
 "cells": [
  {
   "cell_type": "code",
   "execution_count": null,
   "metadata": {},
   "outputs": [],
   "source": [
    "!git clone https://github.com/Michael-Equi/lfg-demo.git"
   ]
  },
  {
   "cell_type": "code",
   "execution_count": null,
   "metadata": {},
   "outputs": [],
   "source": [
    "!pip install openai retry"
   ]
  },
  {
   "cell_type": "code",
   "execution_count": null,
   "metadata": {},
   "outputs": [],
   "source": [
    "import sys\n",
    "sys.path.append('/content/lfg-demo')\n",
    "\n",
    "import language_tools\n",
    "import os\n",
    "import openai\n",
    "from PIL import Image\n",
    "import matplotlib.pyplot as plt"
   ]
  },
  {
   "cell_type": "code",
   "execution_count": null,
   "metadata": {},
   "outputs": [],
   "source": [
    "# Add your API keys here\n",
    "openai.api_key = \"OPENAI_API_KEY\"\n",
    "openai.organization = \"OPENAI_ORG\""
   ]
  },
  {
   "cell_type": "code",
   "execution_count": null,
   "metadata": {},
   "outputs": [],
   "source": [
    "EXAMPLE = 2\n",
    "\n",
    "if EXAMPLE == 0:\n",
    "    clusters = [\n",
    "        [\"sink\", \"toilet\"],\n",
    "        [\"oven\", \"microwave\", \"fridge\"],\n",
    "        [\"bed\"]\n",
    "    ]\n",
    "    goal = \"fork\"\n",
    "elif EXAMPLE == 1:\n",
    "    clusters = [\n",
    "        [\"sink\", \"toilet\"],\n",
    "        [\"shower\", \"bathtub\"],\n",
    "        [\"bed\"],\n",
    "        [\"chair\", \"couch\"],\n",
    "    ]\n",
    "    goal = \"toothbrush\"\n",
    "elif EXAMPLE == 2:\n",
    "    clusters = [\n",
    "        [\"sink\", \"toilet\"],\n",
    "        [\"shower\", \"bathtub\"],\n",
    "        [\"bed\"],\n",
    "        [\"chair\", \"computer\"],\n",
    "    ]\n",
    "    goal = \"pencil\""
   ]
  },
  {
   "cell_type": "markdown",
   "metadata": {},
   "source": [
    "# Computing Positive Scores"
   ]
  },
  {
   "cell_type": "code",
   "execution_count": null,
   "metadata": {},
   "outputs": [],
   "source": [
    "scores, reasoning = language_tools.query_llm(language_tools.LanguageMethod.SAMPLING_POSTIIVE, clusters, goal)\n",
    "newline = '\\n'\n",
    "print(f\"Queried LLM {len(reasoning)} times. The final language scores for each cluster are:{newline}{newline.join([f'{c}: {s}' for c, s in zip(clusters, scores)])}\")"
   ]
  },
  {
   "cell_type": "code",
   "execution_count": null,
   "metadata": {},
   "outputs": [],
   "source": [
    "aggregated_reasoning = language_tools.aggregate_reasoning(reasoning)\n",
    "print(f\"The following is a summary based on each of {len(reasoning)} queries:\", \"\\n\\n\", aggregated_reasoning)"
   ]
  },
  {
   "cell_type": "markdown",
   "metadata": {},
   "source": [
    "# Computing Negative Scores"
   ]
  },
  {
   "cell_type": "code",
   "execution_count": null,
   "metadata": {},
   "outputs": [],
   "source": [
    "scores, reasoning = language_tools.query_llm(language_tools.LanguageMethod.SAMPLING_NEGATIVE, clusters, goal)\n",
    "newline = '\\n'\n",
    "print(f\"Queried LLM {len(reasoning)} times. The final language scores for each cluster are:{newline}{newline.join([f'{c}:  {s}' for c, s in zip(clusters, scores)])}\")"
   ]
  },
  {
   "cell_type": "code",
   "execution_count": null,
   "metadata": {},
   "outputs": [],
   "source": [
    "aggregated_reasoning = language_tools.aggregate_reasoning(reasoning)\n",
    "print(f\"The following is a summary based on each of {len(reasoning)} queries:\", \"\\n\\n\", aggregated_reasoning)"
   ]
  },
  {
   "cell_type": "markdown",
   "metadata": {},
   "source": [
    "# Using Robot Observations"
   ]
  },
  {
   "cell_type": "code",
   "execution_count": null,
   "metadata": {},
   "outputs": [],
   "source": [
    "images = {}\n",
    "images[\"front\"] = Image.open(\"/content/lfg-demo/robot_observations/front.png\")\n",
    "images[\"left\"] = Image.open(\"/content/lfg-demo/robot_observations/left.png\")\n",
    "images[\"rear\"] = Image.open(\"/content/lfg-demo/robot_observations/rear.png\")\n",
    "images[\"right\"] = Image.open(\"/content/lfg-demo/robot_observations/right.png\")\n",
    "\n",
    "goal = \"shampoo\" # CHANGE THIS\n",
    "objects = {\n",
    "    \"front\": ['cabinet', 'cabinet', 'cabinet', 'cabinet', 'cabinet', 'curtain', 'faucet', 'refrigerator'],\n",
    "    \"left\": [],\n",
    "    \"rear\": ['cabinet'],\n",
    "    \"right\": ['bed', 'bed', 'chair', 'chair', 'drawer', 'drawer', 'drawer']\n",
    "}\n",
    "\n",
    "\n",
    "# Plot them side by side \n",
    "fig, ax = plt.subplots(1, 4, figsize=(20, 20))\n",
    "for i, (key, img) in enumerate(images.items()):\n",
    "    ax[i].imshow(img)\n",
    "    ax[i].set_title(key)\n",
    "    ax[i].axis(\"off\")\n",
    "    ax[i].text(0, 725, \"\\n\".join(objects[key]), fontsize=10)\n",
    "plt.show()"
   ]
  },
  {
   "cell_type": "code",
   "execution_count": null,
   "metadata": {},
   "outputs": [],
   "source": [
    "scores, reasoning = language_tools.query_llm(language_tools.LanguageMethod.SAMPLING_POSTIIVE, objects.values(), goal)\n",
    "print(f\"Queried LLM {len(reasoning)} times. The final language scores for each cluster are:{newline}{newline.join([f'{c}: {s}' for c, s in zip(objects, scores)])}\")\n",
    "print(\"\\n\", f\"Summary of {len(reasoning)} queries:\", \"\\n\", language_tools.aggregate_reasoning(reasoning))"
   ]
  },
  {
   "cell_type": "code",
   "execution_count": null,
   "metadata": {},
   "outputs": [],
   "source": [
    "scores, reasoning = language_tools.query_llm(language_tools.LanguageMethod.SAMPLING_NEGATIVE, objects.values(), goal)\n",
    "print(f\"Queried LLM {len(reasoning)} times. The final language scores for each cluster are:{newline}{newline.join([f'{c}: {s}' for c, s in zip(objects, scores)])}\")\n",
    "print(\"\\n\", f\"Summary of {len(reasoning)} queries:\", \"\\n\", language_tools.aggregate_reasoning(reasoning))"
   ]
  }
 ],
 "metadata": {
  "kernelspec": {
   "display_name": "venv",
   "language": "python",
   "name": "python3"
  },
  "language_info": {
   "codemirror_mode": {
    "name": "ipython",
    "version": 3
   },
   "file_extension": ".py",
   "mimetype": "text/x-python",
   "name": "python",
   "nbconvert_exporter": "python",
   "pygments_lexer": "ipython3",
   "version": "3.8.3"
  },
  "orig_nbformat": 4
 },
 "nbformat": 4,
 "nbformat_minor": 2
}
